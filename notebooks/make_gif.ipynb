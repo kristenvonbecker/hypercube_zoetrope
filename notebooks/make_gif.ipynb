{
 "cells": [
  {
   "cell_type": "code",
   "execution_count": 2,
   "id": "5e5e1f4c",
   "metadata": {},
   "outputs": [],
   "source": [
    "from PIL import Image\n",
    "import glob\n",
    "import os\n",
    "from IPython.display import HTML"
   ]
  },
  {
   "cell_type": "code",
   "execution_count": 11,
   "id": "4b15dd24",
   "metadata": {},
   "outputs": [],
   "source": [
    "proj_home = os.path.join(os.getcwd(), \"../\")\n",
    "image_dir = os.path.join(proj_home, \"graphics/for_gif\")\n",
    "gif_dir = os.path.join(proj_home, \"graphics\")"
   ]
  },
  {
   "cell_type": "code",
   "execution_count": 18,
   "id": "536768a3",
   "metadata": {},
   "outputs": [],
   "source": [
    "num_frames = 16\n",
    "bounding_box = (100, 200, 500, 650)  # to crop whitespace in images\n",
    "\n",
    "frames = []\n",
    "for i in range(num_frames):\n",
    "    image = glob.glob(os.path.join(image_dir, \"model{}.png\".format(str(i+1))))[0]\n",
    "    new_frame = Image.open(image).crop(bounding_box)\n",
    "    frames.append(new_frame)\n",
    " \n",
    "gif_filepath = os.path.join(gif_dir, \"animation.gif\")\n",
    "frames[0].save(gif_filepath, format='GIF',\n",
    "               append_images=frames[1:],\n",
    "               save_all=True,\n",
    "               duration=100, loop=0)"
   ]
  },
  {
   "cell_type": "code",
   "execution_count": 20,
   "id": "9f1abafe",
   "metadata": {},
   "outputs": [
    {
     "data": {
      "text/html": [
       "<img src=\"../graphics/animation.gif\">"
      ],
      "text/plain": [
       "<IPython.core.display.HTML object>"
      ]
     },
     "execution_count": 20,
     "metadata": {},
     "output_type": "execute_result"
    }
   ],
   "source": [
    "# view gif \n",
    "\n",
    "HTML('<img src=\"../graphics/animation.gif\">')"
   ]
  }
 ],
 "metadata": {
  "kernelspec": {
   "display_name": "Python 3 (ipykernel)",
   "language": "python",
   "name": "python3"
  },
  "language_info": {
   "codemirror_mode": {
    "name": "ipython",
    "version": 3
   },
   "file_extension": ".py",
   "mimetype": "text/x-python",
   "name": "python",
   "nbconvert_exporter": "python",
   "pygments_lexer": "ipython3",
   "version": "3.10.4"
  }
 },
 "nbformat": 4,
 "nbformat_minor": 5
}
